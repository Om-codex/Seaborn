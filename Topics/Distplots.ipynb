{
 "cells": [
  {
   "cell_type": "markdown",
   "id": "85a7ff5e-74f2-45d2-bd5b-1da041b9f265",
   "metadata": {},
   "source": [
    "# Distplots\n",
    "## Distplots are used to do univariate analysis on a continous numerical data.\n",
    "## Distplot combines 3 things on graph\n",
    "### 1.Histogram\n",
    "### 2.Kernel Density Enstimation (PDF)\n",
    "### 3. Rugplot"
   ]
  },
  {
   "cell_type": "code",
   "execution_count": 2,
   "id": "751a3583-68d1-4e9d-9c55-5f5917a2fbb4",
   "metadata": {},
   "outputs": [],
   "source": [
    "import seaborn as sns\n",
    "import matplotlib.pyplot as plt\n",
    "import numpy as np\n",
    "import pandas as pd"
   ]
  },
  {
   "cell_type": "code",
   "execution_count": null,
   "id": "229aa46f-56e6-4338-b6a6-7eb5074d8746",
   "metadata": {},
   "outputs": [],
   "source": [
    "titanic = sns.load_dataset('titanic')\n",
    "titanic.head()"
   ]
  },
  {
   "cell_type": "code",
   "execution_count": null,
   "id": "9cdc3bcf-56f9-4c38-a1cc-ba362effd772",
   "metadata": {},
   "outputs": [],
   "source": []
  }
 ],
 "metadata": {
  "kernelspec": {
   "display_name": "Python 3 (ipykernel)",
   "language": "python",
   "name": "python3"
  },
  "language_info": {
   "codemirror_mode": {
    "name": "ipython",
    "version": 3
   },
   "file_extension": ".py",
   "mimetype": "text/x-python",
   "name": "python",
   "nbconvert_exporter": "python",
   "pygments_lexer": "ipython3",
   "version": "3.13.0"
  }
 },
 "nbformat": 4,
 "nbformat_minor": 5
}
